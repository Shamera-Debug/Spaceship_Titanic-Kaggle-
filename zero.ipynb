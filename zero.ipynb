{
 "cells": [
  {
   "cell_type": "code",
   "execution_count": null,
   "metadata": {},
   "outputs": [],
   "source": [
    "# 가즈아\n",
    "\n",
    "ㅇㅁ래ㅑ어ㅐㅑㅁ럳내ㅑ러ㅑ맨ㄻㄴ레ㅐㅑ낟레ㅐ나"
   ]
  }
 ],
 "metadata": {
  "language_info": {
   "name": "python"
  }
 },
 "nbformat": 4,
 "nbformat_minor": 2
}
